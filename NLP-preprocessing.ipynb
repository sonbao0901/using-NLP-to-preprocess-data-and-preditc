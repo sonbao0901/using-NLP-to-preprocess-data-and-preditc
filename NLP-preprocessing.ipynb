{
  "nbformat": 4,
  "nbformat_minor": 0,
  "metadata": {
    "colab": {
      "provenance": []
    },
    "kernelspec": {
      "name": "python3",
      "display_name": "Python 3"
    },
    "language_info": {
      "name": "python"
    }
  },
  "cells": [
    {
      "cell_type": "code",
      "source": [
        "!pip install xlrd==1.2.0\n",
        "!pip install nltk"
      ],
      "metadata": {
        "id": "Kuvw0mNSCUQ4",
        "colab": {
          "base_uri": "https://localhost:8080/"
        },
        "outputId": "f29f8b95-a4e9-4cec-c319-441f520df268"
      },
      "execution_count": null,
      "outputs": [
        {
          "output_type": "stream",
          "name": "stdout",
          "text": [
            "Looking in indexes: https://pypi.org/simple, https://us-python.pkg.dev/colab-wheels/public/simple/\n",
            "Requirement already satisfied: xlrd==1.2.0 in /usr/local/lib/python3.8/dist-packages (1.2.0)\n",
            "Looking in indexes: https://pypi.org/simple, https://us-python.pkg.dev/colab-wheels/public/simple/\n",
            "Requirement already satisfied: nltk in /usr/local/lib/python3.8/dist-packages (3.7)\n",
            "Requirement already satisfied: joblib in /usr/local/lib/python3.8/dist-packages (from nltk) (1.2.0)\n",
            "Requirement already satisfied: click in /usr/local/lib/python3.8/dist-packages (from nltk) (7.1.2)\n",
            "Requirement already satisfied: tqdm in /usr/local/lib/python3.8/dist-packages (from nltk) (4.64.1)\n",
            "Requirement already satisfied: regex>=2021.8.3 in /usr/local/lib/python3.8/dist-packages (from nltk) (2022.6.2)\n"
          ]
        }
      ]
    },
    {
      "cell_type": "code",
      "source": [
        "!pip install scikit-learn"
      ],
      "metadata": {
        "id": "hQaTblsl5chn",
        "colab": {
          "base_uri": "https://localhost:8080/"
        },
        "outputId": "50b634d2-ea03-491f-b93b-d12eb9e82e9f"
      },
      "execution_count": null,
      "outputs": [
        {
          "output_type": "stream",
          "name": "stdout",
          "text": [
            "Looking in indexes: https://pypi.org/simple, https://us-python.pkg.dev/colab-wheels/public/simple/\n",
            "Requirement already satisfied: scikit-learn in /usr/local/lib/python3.8/dist-packages (1.0.2)\n",
            "Requirement already satisfied: threadpoolctl>=2.0.0 in /usr/local/lib/python3.8/dist-packages (from scikit-learn) (3.1.0)\n",
            "Requirement already satisfied: scipy>=1.1.0 in /usr/local/lib/python3.8/dist-packages (from scikit-learn) (1.7.3)\n",
            "Requirement already satisfied: joblib>=0.11 in /usr/local/lib/python3.8/dist-packages (from scikit-learn) (1.2.0)\n",
            "Requirement already satisfied: numpy>=1.14.6 in /usr/local/lib/python3.8/dist-packages (from scikit-learn) (1.21.6)\n"
          ]
        }
      ]
    },
    {
      "cell_type": "code",
      "execution_count": 1,
      "metadata": {
        "colab": {
          "base_uri": "https://localhost:8080/"
        },
        "id": "o3pRfL1t3cpG",
        "outputId": "d3065387-5aa2-4726-cde0-803f00482014"
      },
      "outputs": [
        {
          "output_type": "stream",
          "name": "stdout",
          "text": [
            "Mounted at /content/gdrive\n",
            "/content/gdrive/My Drive/Project/NLP\n"
          ]
        }
      ],
      "source": [
        "from google.colab import drive\n",
        "drive.mount('/content/gdrive')\n",
        "\n",
        "import os\n",
        "path = '/content/gdrive/My Drive/Project/NLP'\n",
        "%cd $path"
      ]
    },
    {
      "cell_type": "code",
      "source": [
        "#Khai báo thư viện\n",
        "\n",
        "import pandas as pd\n",
        "import numpy as np\n",
        "import matplotlib.pyplot as plt\n",
        "import seaborn as sns\n",
        "import joblib\n",
        "from sklearn.feature_extraction.text import CountVectorizer\n",
        "from sklearn.feature_extraction.text import TfidfTransformer\n",
        "from sklearn.feature_extraction.text import TfidfVectorizer\n",
        "import re\n",
        "import nltk\n",
        "nltk.download('punkt')\n",
        "from nltk.tokenize import word_tokenize\n",
        "from nltk.stem.snowball import SnowballStemmer\n",
        "from sklearn.model_selection import train_test_split\n",
        "#from mlxtend.feature_selection import SequentialFeatureSelector as sfs\n",
        "from nltk.corpus import stopwords\n",
        "from sklearn.feature_selection import SelectKBest\n",
        "from sklearn.feature_selection import chi2\n",
        "from sklearn.neighbors import KNeighborsClassifier\n",
        "from sklearn.svm import SVC\n",
        "from sklearn.metrics import confusion_matrix\n",
        "from sklearn.metrics import classification_report\n",
        "from sklearn.model_selection import cross_val_score\n",
        "\n",
        "import warnings\n",
        "warnings.filterwarnings(\"ignore\")"
      ],
      "metadata": {
        "id": "0KwX_11s3vm5",
        "colab": {
          "base_uri": "https://localhost:8080/"
        },
        "outputId": "93e2a7fa-66c2-4094-a289-eb40b691b909"
      },
      "execution_count": 15,
      "outputs": [
        {
          "output_type": "stream",
          "name": "stderr",
          "text": [
            "[nltk_data] Downloading package punkt to /root/nltk_data...\n",
            "[nltk_data]   Package punkt is already up-to-date!\n"
          ]
        }
      ]
    },
    {
      "cell_type": "markdown",
      "source": [
        "# **ĐỌC & TIỀN XỬ LÍ DỮ LIỆU**\n"
      ],
      "metadata": {
        "id": "zCcTndQv7WBz"
      }
    },
    {
      "cell_type": "code",
      "source": [
        "#đọc data\n",
        "cmt_data = pd.read_csv('/content/gdrive/MyDrive/Project/NLP/Comments.csv')\n",
        "\n",
        "cus_data = pd.read_csv('/content/gdrive/MyDrive/Project/NLP/Customers.csv')\n",
        "print(cmt_data.shape)\n",
        "print(cus_data.shape)"
      ],
      "metadata": {
        "colab": {
          "base_uri": "https://localhost:8080/"
        },
        "id": "-EzoLyKa7JMc",
        "outputId": "0f250c8f-7b41-4d38-87a0-bef7fe554035"
      },
      "execution_count": 4,
      "outputs": [
        {
          "output_type": "stream",
          "name": "stdout",
          "text": [
            "(2070, 2)\n",
            "(2070, 17)\n"
          ]
        }
      ]
    },
    {
      "cell_type": "code",
      "source": [
        "cmt_data.info()\n",
        "cmt_data.head()"
      ],
      "metadata": {
        "id": "Kya6u54QF0uD",
        "colab": {
          "base_uri": "https://localhost:8080/",
          "height": 376
        },
        "outputId": "d1d03ffd-7bb0-4472-9f83-9b88ffca36d0"
      },
      "execution_count": 5,
      "outputs": [
        {
          "output_type": "stream",
          "name": "stdout",
          "text": [
            "<class 'pandas.core.frame.DataFrame'>\n",
            "RangeIndex: 2070 entries, 0 to 2069\n",
            "Data columns (total 2 columns):\n",
            " #   Column    Non-Null Count  Dtype \n",
            "---  ------    --------------  ----- \n",
            " 0   ID        2070 non-null   int64 \n",
            " 1   Comments  2070 non-null   object\n",
            "dtypes: int64(1), object(1)\n",
            "memory usage: 32.5+ KB\n"
          ]
        },
        {
          "output_type": "execute_result",
          "data": {
            "text/plain": [
              "     ID                                           Comments\n",
              "0  1309  Does not like the way the phone works. It is t...\n",
              "1  3556  Wanted to know the nearest store location. Wan...\n",
              "2  2230  Wants to know how to do text messaging. Referr...\n",
              "3  2312  Asked how to disable call waiting. referred hi...\n",
              "4  3327  Needs help learning how to use the phone. I su..."
            ],
            "text/html": [
              "\n",
              "  <div id=\"df-23803854-9035-4c86-b53c-3ce28ff6aed9\">\n",
              "    <div class=\"colab-df-container\">\n",
              "      <div>\n",
              "<style scoped>\n",
              "    .dataframe tbody tr th:only-of-type {\n",
              "        vertical-align: middle;\n",
              "    }\n",
              "\n",
              "    .dataframe tbody tr th {\n",
              "        vertical-align: top;\n",
              "    }\n",
              "\n",
              "    .dataframe thead th {\n",
              "        text-align: right;\n",
              "    }\n",
              "</style>\n",
              "<table border=\"1\" class=\"dataframe\">\n",
              "  <thead>\n",
              "    <tr style=\"text-align: right;\">\n",
              "      <th></th>\n",
              "      <th>ID</th>\n",
              "      <th>Comments</th>\n",
              "    </tr>\n",
              "  </thead>\n",
              "  <tbody>\n",
              "    <tr>\n",
              "      <th>0</th>\n",
              "      <td>1309</td>\n",
              "      <td>Does not like the way the phone works. It is t...</td>\n",
              "    </tr>\n",
              "    <tr>\n",
              "      <th>1</th>\n",
              "      <td>3556</td>\n",
              "      <td>Wanted to know the nearest store location. Wan...</td>\n",
              "    </tr>\n",
              "    <tr>\n",
              "      <th>2</th>\n",
              "      <td>2230</td>\n",
              "      <td>Wants to know how to do text messaging. Referr...</td>\n",
              "    </tr>\n",
              "    <tr>\n",
              "      <th>3</th>\n",
              "      <td>2312</td>\n",
              "      <td>Asked how to disable call waiting. referred hi...</td>\n",
              "    </tr>\n",
              "    <tr>\n",
              "      <th>4</th>\n",
              "      <td>3327</td>\n",
              "      <td>Needs help learning how to use the phone. I su...</td>\n",
              "    </tr>\n",
              "  </tbody>\n",
              "</table>\n",
              "</div>\n",
              "      <button class=\"colab-df-convert\" onclick=\"convertToInteractive('df-23803854-9035-4c86-b53c-3ce28ff6aed9')\"\n",
              "              title=\"Convert this dataframe to an interactive table.\"\n",
              "              style=\"display:none;\">\n",
              "        \n",
              "  <svg xmlns=\"http://www.w3.org/2000/svg\" height=\"24px\"viewBox=\"0 0 24 24\"\n",
              "       width=\"24px\">\n",
              "    <path d=\"M0 0h24v24H0V0z\" fill=\"none\"/>\n",
              "    <path d=\"M18.56 5.44l.94 2.06.94-2.06 2.06-.94-2.06-.94-.94-2.06-.94 2.06-2.06.94zm-11 1L8.5 8.5l.94-2.06 2.06-.94-2.06-.94L8.5 2.5l-.94 2.06-2.06.94zm10 10l.94 2.06.94-2.06 2.06-.94-2.06-.94-.94-2.06-.94 2.06-2.06.94z\"/><path d=\"M17.41 7.96l-1.37-1.37c-.4-.4-.92-.59-1.43-.59-.52 0-1.04.2-1.43.59L10.3 9.45l-7.72 7.72c-.78.78-.78 2.05 0 2.83L4 21.41c.39.39.9.59 1.41.59.51 0 1.02-.2 1.41-.59l7.78-7.78 2.81-2.81c.8-.78.8-2.07 0-2.86zM5.41 20L4 18.59l7.72-7.72 1.47 1.35L5.41 20z\"/>\n",
              "  </svg>\n",
              "      </button>\n",
              "      \n",
              "  <style>\n",
              "    .colab-df-container {\n",
              "      display:flex;\n",
              "      flex-wrap:wrap;\n",
              "      gap: 12px;\n",
              "    }\n",
              "\n",
              "    .colab-df-convert {\n",
              "      background-color: #E8F0FE;\n",
              "      border: none;\n",
              "      border-radius: 50%;\n",
              "      cursor: pointer;\n",
              "      display: none;\n",
              "      fill: #1967D2;\n",
              "      height: 32px;\n",
              "      padding: 0 0 0 0;\n",
              "      width: 32px;\n",
              "    }\n",
              "\n",
              "    .colab-df-convert:hover {\n",
              "      background-color: #E2EBFA;\n",
              "      box-shadow: 0px 1px 2px rgba(60, 64, 67, 0.3), 0px 1px 3px 1px rgba(60, 64, 67, 0.15);\n",
              "      fill: #174EA6;\n",
              "    }\n",
              "\n",
              "    [theme=dark] .colab-df-convert {\n",
              "      background-color: #3B4455;\n",
              "      fill: #D2E3FC;\n",
              "    }\n",
              "\n",
              "    [theme=dark] .colab-df-convert:hover {\n",
              "      background-color: #434B5C;\n",
              "      box-shadow: 0px 1px 3px 1px rgba(0, 0, 0, 0.15);\n",
              "      filter: drop-shadow(0px 1px 2px rgba(0, 0, 0, 0.3));\n",
              "      fill: #FFFFFF;\n",
              "    }\n",
              "  </style>\n",
              "\n",
              "      <script>\n",
              "        const buttonEl =\n",
              "          document.querySelector('#df-23803854-9035-4c86-b53c-3ce28ff6aed9 button.colab-df-convert');\n",
              "        buttonEl.style.display =\n",
              "          google.colab.kernel.accessAllowed ? 'block' : 'none';\n",
              "\n",
              "        async function convertToInteractive(key) {\n",
              "          const element = document.querySelector('#df-23803854-9035-4c86-b53c-3ce28ff6aed9');\n",
              "          const dataTable =\n",
              "            await google.colab.kernel.invokeFunction('convertToInteractive',\n",
              "                                                     [key], {});\n",
              "          if (!dataTable) return;\n",
              "\n",
              "          const docLinkHtml = 'Like what you see? Visit the ' +\n",
              "            '<a target=\"_blank\" href=https://colab.research.google.com/notebooks/data_table.ipynb>data table notebook</a>'\n",
              "            + ' to learn more about interactive tables.';\n",
              "          element.innerHTML = '';\n",
              "          dataTable['output_type'] = 'display_data';\n",
              "          await google.colab.output.renderOutput(dataTable, element);\n",
              "          const docLink = document.createElement('div');\n",
              "          docLink.innerHTML = docLinkHtml;\n",
              "          element.appendChild(docLink);\n",
              "        }\n",
              "      </script>\n",
              "    </div>\n",
              "  </div>\n",
              "  "
            ]
          },
          "metadata": {},
          "execution_count": 5
        }
      ]
    },
    {
      "cell_type": "code",
      "source": [
        "cus_data.info()\n",
        "cus_data.head()"
      ],
      "metadata": {
        "colab": {
          "base_uri": "https://localhost:8080/",
          "height": 659
        },
        "id": "XEyGDg8yzD2q",
        "outputId": "047cb05a-70cc-4050-f8f7-1317c3f1daeb"
      },
      "execution_count": 6,
      "outputs": [
        {
          "output_type": "stream",
          "name": "stdout",
          "text": [
            "<class 'pandas.core.frame.DataFrame'>\n",
            "RangeIndex: 2070 entries, 0 to 2069\n",
            "Data columns (total 17 columns):\n",
            " #   Column                Non-Null Count  Dtype  \n",
            "---  ------                --------------  -----  \n",
            " 0   ID                    2070 non-null   int64  \n",
            " 1   Sex                   2070 non-null   object \n",
            " 2   Status                2070 non-null   object \n",
            " 3   Children              2070 non-null   int64  \n",
            " 4   Est_Income            2070 non-null   float64\n",
            " 5   Car_Owner             2070 non-null   object \n",
            " 6   Usage                 2070 non-null   float64\n",
            " 7   Age                   2070 non-null   float64\n",
            " 8   RatePlan              2070 non-null   int64  \n",
            " 9   LongDistance          2070 non-null   float64\n",
            " 10  International         2070 non-null   float64\n",
            " 11  Local                 2070 non-null   float64\n",
            " 12  Dropped               2070 non-null   int64  \n",
            " 13  Paymethod             2070 non-null   object \n",
            " 14  LocalBilltype         2070 non-null   object \n",
            " 15  LongDistanceBilltype  2070 non-null   object \n",
            " 16  TARGET                2070 non-null   object \n",
            "dtypes: float64(6), int64(4), object(7)\n",
            "memory usage: 275.0+ KB\n"
          ]
        },
        {
          "output_type": "execute_result",
          "data": {
            "text/plain": [
              "   ID Sex Status  Children  Est_Income Car_Owner   Usage        Age  RatePlan  \\\n",
              "0   1   F      S         1    38000.00         N  229.64  24.393333         3   \n",
              "1   6   M      M         2    29616.00         N   75.29  49.426667         2   \n",
              "2   8   M      M         0    19732.80         N   47.25  50.673333         3   \n",
              "3  11   M      S         2       96.33         N   59.01  56.473333         1   \n",
              "4  14   F      M         2    52004.80         N   28.14  25.140000         1   \n",
              "\n",
              "   LongDistance  International   Local  Dropped Paymethod LocalBilltype  \\\n",
              "0         23.56            0.0  206.08        0        CC        Budget   \n",
              "1         29.78            0.0   45.50        0        CH     FreeLocal   \n",
              "2         24.81            0.0   22.44        0        CC     FreeLocal   \n",
              "3         26.13            0.0   32.88        1        CC        Budget   \n",
              "4          5.03            0.0   23.11        0        CH        Budget   \n",
              "\n",
              "  LongDistanceBilltype     TARGET  \n",
              "0       Intnl_discount  Cancelled  \n",
              "1             Standard    Current  \n",
              "2             Standard    Current  \n",
              "3             Standard    Current  \n",
              "4       Intnl_discount  Cancelled  "
            ],
            "text/html": [
              "\n",
              "  <div id=\"df-da9610b7-47d1-4134-89cf-e3c0392db60f\">\n",
              "    <div class=\"colab-df-container\">\n",
              "      <div>\n",
              "<style scoped>\n",
              "    .dataframe tbody tr th:only-of-type {\n",
              "        vertical-align: middle;\n",
              "    }\n",
              "\n",
              "    .dataframe tbody tr th {\n",
              "        vertical-align: top;\n",
              "    }\n",
              "\n",
              "    .dataframe thead th {\n",
              "        text-align: right;\n",
              "    }\n",
              "</style>\n",
              "<table border=\"1\" class=\"dataframe\">\n",
              "  <thead>\n",
              "    <tr style=\"text-align: right;\">\n",
              "      <th></th>\n",
              "      <th>ID</th>\n",
              "      <th>Sex</th>\n",
              "      <th>Status</th>\n",
              "      <th>Children</th>\n",
              "      <th>Est_Income</th>\n",
              "      <th>Car_Owner</th>\n",
              "      <th>Usage</th>\n",
              "      <th>Age</th>\n",
              "      <th>RatePlan</th>\n",
              "      <th>LongDistance</th>\n",
              "      <th>International</th>\n",
              "      <th>Local</th>\n",
              "      <th>Dropped</th>\n",
              "      <th>Paymethod</th>\n",
              "      <th>LocalBilltype</th>\n",
              "      <th>LongDistanceBilltype</th>\n",
              "      <th>TARGET</th>\n",
              "    </tr>\n",
              "  </thead>\n",
              "  <tbody>\n",
              "    <tr>\n",
              "      <th>0</th>\n",
              "      <td>1</td>\n",
              "      <td>F</td>\n",
              "      <td>S</td>\n",
              "      <td>1</td>\n",
              "      <td>38000.00</td>\n",
              "      <td>N</td>\n",
              "      <td>229.64</td>\n",
              "      <td>24.393333</td>\n",
              "      <td>3</td>\n",
              "      <td>23.56</td>\n",
              "      <td>0.0</td>\n",
              "      <td>206.08</td>\n",
              "      <td>0</td>\n",
              "      <td>CC</td>\n",
              "      <td>Budget</td>\n",
              "      <td>Intnl_discount</td>\n",
              "      <td>Cancelled</td>\n",
              "    </tr>\n",
              "    <tr>\n",
              "      <th>1</th>\n",
              "      <td>6</td>\n",
              "      <td>M</td>\n",
              "      <td>M</td>\n",
              "      <td>2</td>\n",
              "      <td>29616.00</td>\n",
              "      <td>N</td>\n",
              "      <td>75.29</td>\n",
              "      <td>49.426667</td>\n",
              "      <td>2</td>\n",
              "      <td>29.78</td>\n",
              "      <td>0.0</td>\n",
              "      <td>45.50</td>\n",
              "      <td>0</td>\n",
              "      <td>CH</td>\n",
              "      <td>FreeLocal</td>\n",
              "      <td>Standard</td>\n",
              "      <td>Current</td>\n",
              "    </tr>\n",
              "    <tr>\n",
              "      <th>2</th>\n",
              "      <td>8</td>\n",
              "      <td>M</td>\n",
              "      <td>M</td>\n",
              "      <td>0</td>\n",
              "      <td>19732.80</td>\n",
              "      <td>N</td>\n",
              "      <td>47.25</td>\n",
              "      <td>50.673333</td>\n",
              "      <td>3</td>\n",
              "      <td>24.81</td>\n",
              "      <td>0.0</td>\n",
              "      <td>22.44</td>\n",
              "      <td>0</td>\n",
              "      <td>CC</td>\n",
              "      <td>FreeLocal</td>\n",
              "      <td>Standard</td>\n",
              "      <td>Current</td>\n",
              "    </tr>\n",
              "    <tr>\n",
              "      <th>3</th>\n",
              "      <td>11</td>\n",
              "      <td>M</td>\n",
              "      <td>S</td>\n",
              "      <td>2</td>\n",
              "      <td>96.33</td>\n",
              "      <td>N</td>\n",
              "      <td>59.01</td>\n",
              "      <td>56.473333</td>\n",
              "      <td>1</td>\n",
              "      <td>26.13</td>\n",
              "      <td>0.0</td>\n",
              "      <td>32.88</td>\n",
              "      <td>1</td>\n",
              "      <td>CC</td>\n",
              "      <td>Budget</td>\n",
              "      <td>Standard</td>\n",
              "      <td>Current</td>\n",
              "    </tr>\n",
              "    <tr>\n",
              "      <th>4</th>\n",
              "      <td>14</td>\n",
              "      <td>F</td>\n",
              "      <td>M</td>\n",
              "      <td>2</td>\n",
              "      <td>52004.80</td>\n",
              "      <td>N</td>\n",
              "      <td>28.14</td>\n",
              "      <td>25.140000</td>\n",
              "      <td>1</td>\n",
              "      <td>5.03</td>\n",
              "      <td>0.0</td>\n",
              "      <td>23.11</td>\n",
              "      <td>0</td>\n",
              "      <td>CH</td>\n",
              "      <td>Budget</td>\n",
              "      <td>Intnl_discount</td>\n",
              "      <td>Cancelled</td>\n",
              "    </tr>\n",
              "  </tbody>\n",
              "</table>\n",
              "</div>\n",
              "      <button class=\"colab-df-convert\" onclick=\"convertToInteractive('df-da9610b7-47d1-4134-89cf-e3c0392db60f')\"\n",
              "              title=\"Convert this dataframe to an interactive table.\"\n",
              "              style=\"display:none;\">\n",
              "        \n",
              "  <svg xmlns=\"http://www.w3.org/2000/svg\" height=\"24px\"viewBox=\"0 0 24 24\"\n",
              "       width=\"24px\">\n",
              "    <path d=\"M0 0h24v24H0V0z\" fill=\"none\"/>\n",
              "    <path d=\"M18.56 5.44l.94 2.06.94-2.06 2.06-.94-2.06-.94-.94-2.06-.94 2.06-2.06.94zm-11 1L8.5 8.5l.94-2.06 2.06-.94-2.06-.94L8.5 2.5l-.94 2.06-2.06.94zm10 10l.94 2.06.94-2.06 2.06-.94-2.06-.94-.94-2.06-.94 2.06-2.06.94z\"/><path d=\"M17.41 7.96l-1.37-1.37c-.4-.4-.92-.59-1.43-.59-.52 0-1.04.2-1.43.59L10.3 9.45l-7.72 7.72c-.78.78-.78 2.05 0 2.83L4 21.41c.39.39.9.59 1.41.59.51 0 1.02-.2 1.41-.59l7.78-7.78 2.81-2.81c.8-.78.8-2.07 0-2.86zM5.41 20L4 18.59l7.72-7.72 1.47 1.35L5.41 20z\"/>\n",
              "  </svg>\n",
              "      </button>\n",
              "      \n",
              "  <style>\n",
              "    .colab-df-container {\n",
              "      display:flex;\n",
              "      flex-wrap:wrap;\n",
              "      gap: 12px;\n",
              "    }\n",
              "\n",
              "    .colab-df-convert {\n",
              "      background-color: #E8F0FE;\n",
              "      border: none;\n",
              "      border-radius: 50%;\n",
              "      cursor: pointer;\n",
              "      display: none;\n",
              "      fill: #1967D2;\n",
              "      height: 32px;\n",
              "      padding: 0 0 0 0;\n",
              "      width: 32px;\n",
              "    }\n",
              "\n",
              "    .colab-df-convert:hover {\n",
              "      background-color: #E2EBFA;\n",
              "      box-shadow: 0px 1px 2px rgba(60, 64, 67, 0.3), 0px 1px 3px 1px rgba(60, 64, 67, 0.15);\n",
              "      fill: #174EA6;\n",
              "    }\n",
              "\n",
              "    [theme=dark] .colab-df-convert {\n",
              "      background-color: #3B4455;\n",
              "      fill: #D2E3FC;\n",
              "    }\n",
              "\n",
              "    [theme=dark] .colab-df-convert:hover {\n",
              "      background-color: #434B5C;\n",
              "      box-shadow: 0px 1px 3px 1px rgba(0, 0, 0, 0.15);\n",
              "      filter: drop-shadow(0px 1px 2px rgba(0, 0, 0, 0.3));\n",
              "      fill: #FFFFFF;\n",
              "    }\n",
              "  </style>\n",
              "\n",
              "      <script>\n",
              "        const buttonEl =\n",
              "          document.querySelector('#df-da9610b7-47d1-4134-89cf-e3c0392db60f button.colab-df-convert');\n",
              "        buttonEl.style.display =\n",
              "          google.colab.kernel.accessAllowed ? 'block' : 'none';\n",
              "\n",
              "        async function convertToInteractive(key) {\n",
              "          const element = document.querySelector('#df-da9610b7-47d1-4134-89cf-e3c0392db60f');\n",
              "          const dataTable =\n",
              "            await google.colab.kernel.invokeFunction('convertToInteractive',\n",
              "                                                     [key], {});\n",
              "          if (!dataTable) return;\n",
              "\n",
              "          const docLinkHtml = 'Like what you see? Visit the ' +\n",
              "            '<a target=\"_blank\" href=https://colab.research.google.com/notebooks/data_table.ipynb>data table notebook</a>'\n",
              "            + ' to learn more about interactive tables.';\n",
              "          element.innerHTML = '';\n",
              "          dataTable['output_type'] = 'display_data';\n",
              "          await google.colab.output.renderOutput(dataTable, element);\n",
              "          const docLink = document.createElement('div');\n",
              "          docLink.innerHTML = docLinkHtml;\n",
              "          element.appendChild(docLink);\n",
              "        }\n",
              "      </script>\n",
              "    </div>\n",
              "  </div>\n",
              "  "
            ]
          },
          "metadata": {},
          "execution_count": 6
        }
      ]
    },
    {
      "cell_type": "code",
      "source": [
        "plt.figure(figsize = (15, 8))\n",
        "pl = sns.countplot(x=cus_data[\"TARGET\"])\n",
        "pl.set_title(\"Lượng khách hàng theo dự đoán\",fontsize=15)\n",
        "pl.set_xlabel(\"Dự đoán\",fontsize=15)\n",
        "pl.set_ylabel(\"count\",fontsize=15)\n",
        "plt.show()"
      ],
      "metadata": {
        "colab": {
          "base_uri": "https://localhost:8080/",
          "height": 521
        },
        "id": "KCuLmkwxL2Qv",
        "outputId": "6e793f75-358d-4cd1-d4ff-a54023d8df7a"
      },
      "execution_count": 17,
      "outputs": [
        {
          "output_type": "display_data",
          "data": {
            "text/plain": [
              "<Figure size 1080x576 with 1 Axes>"
            ],
            "image/png": "[encoded data removed]"
          },
          "metadata": {
            "needs_background": "light"
          }
        }
      ]
    },
    {
      "cell_type": "code",
      "source": [
        "plt.figure(figsize = (18, 8))\n",
        "sns.heatmap(cus_data.corr(), annot = True)\n",
        "plt.show()"
      ],
      "metadata": {
        "colab": {
          "base_uri": "https://localhost:8080/",
          "height": 488
        },
        "id": "IQZwNQWEVGFz",
        "outputId": "99279518-e9f4-4973-9fa5-060c3e24d6a4"
      },
      "execution_count": 8,
      "outputs": [
        {
          "output_type": "display_data",
          "data": {
            "text/plain": [
              "<Figure size 1296x576 with 2 Axes>"
            ],
            "image/png": "[encoded data removed]"
          },
          "metadata": {
            "needs_background": "light"
          }
        }
      ]
    },
    {
      "cell_type": "code",
      "source": [
        "# SNOWBALL STEMMER\n",
        "# dùng English stemmer.\n",
        "Stemmer = SnowballStemmer(\"english\")\n",
        "# Tokenize - chia câu thành list chứa từ\n",
        "cmt_data['CommentsTokenized'] = cmt_data['Comments'].apply(word_tokenize)\n",
        "\n",
        "# tiến hành stemming - tạo dataframe chứa stemmed version\n",
        "NewTextData=pd.DataFrame()\n",
        "NewTextData=cmt_data.drop(columns=[\"CommentsTokenized\",\"Comments\"])\n",
        "NewTextData['CommentsTokenizedStemmed'] = cmt_data['CommentsTokenized'].apply(lambda x: [Stemmer.stem(y) for y in x]) # Stem every word.\n",
        "\n",
        "#nối các chuỗi được stemmed\n",
        "NewTextData['CommentsTokenizedStemmed'] = NewTextData['CommentsTokenizedStemmed'].apply(lambda x: \" \".join(x))\n",
        "NewTextData"
      ],
      "metadata": {
        "id": "ZUCHuAo97xN6",
        "colab": {
          "base_uri": "https://localhost:8080/",
          "height": 424
        },
        "outputId": "d82c5061-29fa-4609-99cb-5a2301925f36"
      },
      "execution_count": 13,
      "outputs": [
        {
          "output_type": "execute_result",
          "data": {
            "text/plain": [
              "        ID                           CommentsTokenizedStemmed\n",
              "0     1309  doe not like the way the phone work . it is to...\n",
              "1     3556  want to know the nearest store locat . want to...\n",
              "2     2230  want to know how to do text messag . refer him...\n",
              "3     2312  ask how to disabl call wait . refer him to web...\n",
              "4     3327  need help learn how to use the phone . i sugge...\n",
              "...    ...                                                ...\n",
              "2065  3034  need help figur out his bill . i explain our m...\n",
              "2066   271  he lost his phone and call to cancel servic . ...\n",
              "2067   783  lost the direct to phone and want anoth manual...\n",
              "2068  1295                            want to chang address .\n",
              "2069  1807  he lost his phone and call to cancel servic . ...\n",
              "\n",
              "[2070 rows x 2 columns]"
            ],
            "text/html": [
              "\n",
              "  <div id=\"df-61e7a686-5276-48e9-909d-91ea49d3cadd\">\n",
              "    <div class=\"colab-df-container\">\n",
              "      <div>\n",
              "<style scoped>\n",
              "    .dataframe tbody tr th:only-of-type {\n",
              "        vertical-align: middle;\n",
              "    }\n",
              "\n",
              "    .dataframe tbody tr th {\n",
              "        vertical-align: top;\n",
              "    }\n",
              "\n",
              "    .dataframe thead th {\n",
              "        text-align: right;\n",
              "    }\n",
              "</style>\n",
              "<table border=\"1\" class=\"dataframe\">\n",
              "  <thead>\n",
              "    <tr style=\"text-align: right;\">\n",
              "      <th></th>\n",
              "      <th>ID</th>\n",
              "      <th>CommentsTokenizedStemmed</th>\n",
              "    </tr>\n",
              "  </thead>\n",
              "  <tbody>\n",
              "    <tr>\n",
              "      <th>0</th>\n",
              "      <td>1309</td>\n",
              "      <td>doe not like the way the phone work . it is to...</td>\n",
              "    </tr>\n",
              "    <tr>\n",
              "      <th>1</th>\n",
              "      <td>3556</td>\n",
              "      <td>want to know the nearest store locat . want to...</td>\n",
              "    </tr>\n",
              "    <tr>\n",
              "      <th>2</th>\n",
              "      <td>2230</td>\n",
              "      <td>want to know how to do text messag . refer him...</td>\n",
              "    </tr>\n",
              "    <tr>\n",
              "      <th>3</th>\n",
              "      <td>2312</td>\n",
              "      <td>ask how to disabl call wait . refer him to web...</td>\n",
              "    </tr>\n",
              "    <tr>\n",
              "      <th>4</th>\n",
              "      <td>3327</td>\n",
              "      <td>need help learn how to use the phone . i sugge...</td>\n",
              "    </tr>\n",
              "    <tr>\n",
              "      <th>...</th>\n",
              "      <td>...</td>\n",
              "      <td>...</td>\n",
              "    </tr>\n",
              "    <tr>\n",
              "      <th>2065</th>\n",
              "      <td>3034</td>\n",
              "      <td>need help figur out his bill . i explain our m...</td>\n",
              "    </tr>\n",
              "    <tr>\n",
              "      <th>2066</th>\n",
              "      <td>271</td>\n",
              "      <td>he lost his phone and call to cancel servic . ...</td>\n",
              "    </tr>\n",
              "    <tr>\n",
              "      <th>2067</th>\n",
              "      <td>783</td>\n",
              "      <td>lost the direct to phone and want anoth manual...</td>\n",
              "    </tr>\n",
              "    <tr>\n",
              "      <th>2068</th>\n",
              "      <td>1295</td>\n",
              "      <td>want to chang address .</td>\n",
              "    </tr>\n",
              "    <tr>\n",
              "      <th>2069</th>\n",
              "      <td>1807</td>\n",
              "      <td>he lost his phone and call to cancel servic . ...</td>\n",
              "    </tr>\n",
              "  </tbody>\n",
              "</table>\n",
              "<p>2070 rows × 2 columns</p>\n",
              "</div>\n",
              "      <button class=\"colab-df-convert\" onclick=\"convertToInteractive('df-61e7a686-5276-48e9-909d-91ea49d3cadd')\"\n",
              "              title=\"Convert this dataframe to an interactive table.\"\n",
              "              style=\"display:none;\">\n",
              "        \n",
              "  <svg xmlns=\"http://www.w3.org/2000/svg\" height=\"24px\"viewBox=\"0 0 24 24\"\n",
              "       width=\"24px\">\n",
              "    <path d=\"M0 0h24v24H0V0z\" fill=\"none\"/>\n",
              "    <path d=\"M18.56 5.44l.94 2.06.94-2.06 2.06-.94-2.06-.94-.94-2.06-.94 2.06-2.06.94zm-11 1L8.5 8.5l.94-2.06 2.06-.94-2.06-.94L8.5 2.5l-.94 2.06-2.06.94zm10 10l.94 2.06.94-2.06 2.06-.94-2.06-.94-.94-2.06-.94 2.06-2.06.94z\"/><path d=\"M17.41 7.96l-1.37-1.37c-.4-.4-.92-.59-1.43-.59-.52 0-1.04.2-1.43.59L10.3 9.45l-7.72 7.72c-.78.78-.78 2.05 0 2.83L4 21.41c.39.39.9.59 1.41.59.51 0 1.02-.2 1.41-.59l7.78-7.78 2.81-2.81c.8-.78.8-2.07 0-2.86zM5.41 20L4 18.59l7.72-7.72 1.47 1.35L5.41 20z\"/>\n",
              "  </svg>\n",
              "      </button>\n",
              "      \n",
              "  <style>\n",
              "    .colab-df-container {\n",
              "      display:flex;\n",
              "      flex-wrap:wrap;\n",
              "      gap: 12px;\n",
              "    }\n",
              "\n",
              "    .colab-df-convert {\n",
              "      background-color: #E8F0FE;\n",
              "      border: none;\n",
              "      border-radius: 50%;\n",
              "      cursor: pointer;\n",
              "      display: none;\n",
              "      fill: #1967D2;\n",
              "      height: 32px;\n",
              "      padding: 0 0 0 0;\n",
              "      width: 32px;\n",
              "    }\n",
              "\n",
              "    .colab-df-convert:hover {\n",
              "      background-color: #E2EBFA;\n",
              "      box-shadow: 0px 1px 2px rgba(60, 64, 67, 0.3), 0px 1px 3px 1px rgba(60, 64, 67, 0.15);\n",
              "      fill: #174EA6;\n",
              "    }\n",
              "\n",
              "    [theme=dark] .colab-df-convert {\n",
              "      background-color: #3B4455;\n",
              "      fill: #D2E3FC;\n",
              "    }\n",
              "\n",
              "    [theme=dark] .colab-df-convert:hover {\n",
              "      background-color: #434B5C;\n",
              "      box-shadow: 0px 1px 3px 1px rgba(0, 0, 0, 0.15);\n",
              "      filter: drop-shadow(0px 1px 2px rgba(0, 0, 0, 0.3));\n",
              "      fill: #FFFFFF;\n",
              "    }\n",
              "  </style>\n",
              "\n",
              "      <script>\n",
              "        const buttonEl =\n",
              "          document.querySelector('#df-61e7a686-5276-48e9-909d-91ea49d3cadd button.colab-df-convert');\n",
              "        buttonEl.style.display =\n",
              "          google.colab.kernel.accessAllowed ? 'block' : 'none';\n",
              "\n",
              "        async function convertToInteractive(key) {\n",
              "          const element = document.querySelector('#df-61e7a686-5276-48e9-909d-91ea49d3cadd');\n",
              "          const dataTable =\n",
              "            await google.colab.kernel.invokeFunction('convertToInteractive',\n",
              "                                                     [key], {});\n",
              "          if (!dataTable) return;\n",
              "\n",
              "          const docLinkHtml = 'Like what you see? Visit the ' +\n",
              "            '<a target=\"_blank\" href=https://colab.research.google.com/notebooks/data_table.ipynb>data table notebook</a>'\n",
              "            + ' to learn more about interactive tables.';\n",
              "          element.innerHTML = '';\n",
              "          dataTable['output_type'] = 'display_data';\n",
              "          await google.colab.output.renderOutput(dataTable, element);\n",
              "          const docLink = document.createElement('div');\n",
              "          docLink.innerHTML = docLinkHtml;\n",
              "          element.appendChild(docLink);\n",
              "        }\n",
              "      </script>\n",
              "    </div>\n",
              "  </div>\n",
              "  "
            ]
          },
          "metadata": {},
          "execution_count": 13
        }
      ]
    },
    {
      "cell_type": "code",
      "source": [
        "#Bag-Of-Words model - Term - Document Matrix\n",
        "\n",
        "count_vect = CountVectorizer(stop_words='english',lowercase=False)\n",
        "TD_counts = count_vect.fit_transform(NewTextData.CommentsTokenizedStemmed)\n",
        "TD_counts.dtype\n",
        "print(count_vect.get_feature_names_out())\n",
        "print(\"No. of stem words in SNOWBALL stemmer is : \",len(count_vect.get_feature_names_out()))\n",
        "DF_TD_Counts=pd.DataFrame(TD_counts.toarray())\n",
        "print(DF_TD_Counts)"
      ],
      "metadata": {
        "id": "bTjslMFn8Gow",
        "colab": {
          "base_uri": "https://localhost:8080/"
        },
        "outputId": "114bf64d-95c0-4941-8680-e78cb1a1c584"
      },
      "execution_count": 18,
      "outputs": [
        {
          "output_type": "stream",
          "name": "stdout",
          "text": [
            "['3399' '3g' 'abysm' 'access' 'accessori' 'adapt' 'add' 'addit' 'additon'\n",
            " 'address' 'adit' 'adress' 'advertis' 'afraid' 'alway' 'angel' 'angri'\n",
            " 'ani' 'anoth' 'anyth' 'anytim' 'area' 'asap' 'ask' 'bad' 'basic' 'bateri'\n",
            " 'batteri' 'becaus' 'believ' 'better' 'bigger' 'book' 'bought' 'brain'\n",
            " 'bring' 'built' 'busi' 'button' 'buy' 'cancel' 'cancer' 'car' 'care'\n",
            " 'carrier' 'caus' 'cc' 'cell' 'certain' 'chang' 'charg' 'charger' 'check'\n",
            " 'chip' 'citi' 'claim' 'cleariti' 'cold' 'comapr' 'compani' 'compar'\n",
            " 'competit' 'complain' 'complaint' 'concept' 'connect' 'consisit'\n",
            " 'consist' 'constan' 'contact' 'continu' 'contract' 'correct' 'cost'\n",
            " 'coupl' 'cover' 'coverag' 'creat' 'credit' 'cstmer' 'cstmr' 'current'\n",
            " 'cust' 'custom' 'customr' 'date' 'day' 'dead' 'decent' 'defect' 'deo'\n",
            " 'did' 'die' 'differ' 'difficult' 'digiti' 'direct' 'disabl' 'doe' 'don'\n",
            " 'dont' 'drop' 'dure' 'easier' 'effect' 'encount' 'end' 'enemi' 'equip'\n",
            " 'everytim' 'everywher' 'evrey' 'exact' 'expect' 'expir' 'explain'\n",
            " 'facepl' 'fals' 'famili' 'featur' 'fed' 'figur' 'fine' 'fix' 'forev'\n",
            " 'forward' 'friend' 'function' 'furthermor' 'futur' 'gave' 'goat' 'good'\n",
            " 'great' 'gsm' 'handset' 'happi' 'hard' 'hate' 'hear' 'heard' 'help'\n",
            " 'higher' 'highway' 'hochi' 'hole' 'home' 'hope' 'horribl' 'hous'\n",
            " 'implement' 'improv' 'inadequ' 'includ' 'info' 'inform' 'ing' 'internet'\n",
            " 'intersect' 'issu' 'june' 'just' 'kid' 'kno' 'know' 'lame' 'later' 'lctn'\n",
            " 'learn' 'leroy' 'like' 'line' 'list' 'local' 'locat' 'locatn' 'long'\n",
            " 'los' 'lost' 'lot' 'love' 'major' 'make' 'manag' 'mani' 'manual' 'market'\n",
            " 'mean' 'messag' 'metropolitian' 'minut' 'misl' 'mistak' 'model' 'momma'\n",
            " 'mr' 'napeleon' 'near' 'nearest' 'need' 'network' 'new' 'news' 'notic'\n",
            " 'number' 'numer' 'offer' 'old' 'om' 'open' 'option' 'ori' 'ot' 'outbound'\n",
            " 'pass' 'pay' 'pda' 'peopl' 'perform' 'person' 'phone' 'piec' 'plan'\n",
            " 'pleas' 'point' 'polici' 'poor' 'possibl' 'probabl' 'problem' 'proper'\n",
            " 'provid' 'provis' 'purpos' 'rate' 'rater' 'realiz' 'realli' 'reason'\n",
            " 'receiv' 'recept' 'recption' 'reenter' 'refer' 'relat' 'rep' 'replac'\n",
            " 'respect' 'result' 'rid' 'right' 'ring' 'roam' 'roll' 'rubbish' 'rude'\n",
            " 'said' 'sale' 'say' 'screen' 'self' 'send' 'servic' 'shitti' 'shut'\n",
            " 'sign' 'signal' 'signific' 'simm' 'simpli' 'sinc' 'site' 'slow' 'sold'\n",
            " 'someon' 'sometim' 'soon' 'speak' 'speed' 'start' 'static' 'stole'\n",
            " 'store' 'stuff' 'stupid' 'substant' 'subtract' 'suck' 'suggest'\n",
            " 'supervisor' 'support' 'sure' 'surpris' 'suspect' 'suspend' 'switch'\n",
            " 'teach' 'technic' 'tell' 'terribl' 'test' 'text' 'think' 'thought'\n",
            " 'ticket' 'till' 'time' 'tire' 'today' 'toilet' 'told' 'tone' 'tower'\n",
            " 'transeff' 'transf' 'transfer' 'travel' 'tri' 'trust' 'turn' 'uncomfort'\n",
            " 'understand' 'unhappi' 'unlimit' 'unreli' 'unwil' 'upset' 'usag' 'use'\n",
            " 'useless' 'valu' 'veri' 'vm' 'wa' 'wait' 'want' 'wast' 'way' 'weak' 'web'\n",
            " 'websit' 'week' 'whi' 'wife' 'wish' 'wll' 'wold' 'work' 'wors' 'worst'\n",
            " 'wrong' 'xvyx' 'year' 'york']\n",
            "No. of stem words in SNOWBALL stemmer is :  354\n",
            "      0    1    2    3    4    5    6    7    8    9    ...  344  345  346  \\\n",
            "0       0    0    0    0    0    0    0    0    0    0  ...    0    0    0   \n",
            "1       0    0    0    0    1    0    0    0    0    0  ...    0    0    0   \n",
            "2       0    0    0    0    0    0    0    0    0    0  ...    0    0    0   \n",
            "3       0    0    0    0    0    0    0    0    0    0  ...    0    0    0   \n",
            "4       0    0    0    0    0    0    0    0    0    0  ...    0    0    0   \n",
            "...   ...  ...  ...  ...  ...  ...  ...  ...  ...  ...  ...  ...  ...  ...   \n",
            "2065    0    0    0    0    0    0    0    0    0    0  ...    0    0    0   \n",
            "2066    0    0    0    0    0    0    0    0    0    0  ...    0    0    0   \n",
            "2067    0    0    0    0    0    0    0    0    0    0  ...    0    0    0   \n",
            "2068    0    0    0    0    0    0    0    0    0    1  ...    0    0    0   \n",
            "2069    0    0    0    0    0    0    0    0    0    0  ...    0    0    0   \n",
            "\n",
            "      347  348  349  350  351  352  353  \n",
            "0       1    0    0    0    0    0    0  \n",
            "1       0    0    0    0    0    0    0  \n",
            "2       0    0    0    0    0    0    0  \n",
            "3       0    0    0    0    0    0    0  \n",
            "4       0    0    0    0    0    0    0  \n",
            "...   ...  ...  ...  ...  ...  ...  ...  \n",
            "2065    0    0    0    0    0    0    0  \n",
            "2066    0    0    0    0    0    0    0  \n",
            "2067    0    0    0    0    0    0    0  \n",
            "2068    0    0    0    0    0    0    0  \n",
            "2069    0    0    0    0    0    0    0  \n",
            "\n",
            "[2070 rows x 354 columns]\n"
          ]
        }
      ]
    },
    {
      "cell_type": "code",
      "source": [
        "#ma trận TF-IDF\n",
        "tf_idf_transformer = TfidfTransformer()\n",
        "X_Train_tfidf = tf_idf_transformer.fit_transform(TD_counts)\n",
        "print(X_Train_tfidf.shape)\n",
        "df_tf_idf = pd.DataFrame(X_Train_tfidf.toarray())\n",
        "print(df_tf_idf)"
      ],
      "metadata": {
        "id": "8R__CJBPI20p",
        "colab": {
          "base_uri": "https://localhost:8080/"
        },
        "outputId": "0e460457-4f57-4128-b273-1f1ab1302f8e"
      },
      "execution_count": 19,
      "outputs": [
        {
          "output_type": "stream",
          "name": "stdout",
          "text": [
            "(2070, 354)\n",
            "      0    1    2    3        4    5    6    7    8         9    ...  344  \\\n",
            "0     0.0  0.0  0.0  0.0  0.00000  0.0  0.0  0.0  0.0  0.000000  ...  0.0   \n",
            "1     0.0  0.0  0.0  0.0  0.27568  0.0  0.0  0.0  0.0  0.000000  ...  0.0   \n",
            "2     0.0  0.0  0.0  0.0  0.00000  0.0  0.0  0.0  0.0  0.000000  ...  0.0   \n",
            "3     0.0  0.0  0.0  0.0  0.00000  0.0  0.0  0.0  0.0  0.000000  ...  0.0   \n",
            "4     0.0  0.0  0.0  0.0  0.00000  0.0  0.0  0.0  0.0  0.000000  ...  0.0   \n",
            "...   ...  ...  ...  ...      ...  ...  ...  ...  ...       ...  ...  ...   \n",
            "2065  0.0  0.0  0.0  0.0  0.00000  0.0  0.0  0.0  0.0  0.000000  ...  0.0   \n",
            "2066  0.0  0.0  0.0  0.0  0.00000  0.0  0.0  0.0  0.0  0.000000  ...  0.0   \n",
            "2067  0.0  0.0  0.0  0.0  0.00000  0.0  0.0  0.0  0.0  0.000000  ...  0.0   \n",
            "2068  0.0  0.0  0.0  0.0  0.00000  0.0  0.0  0.0  0.0  0.772949  ...  0.0   \n",
            "2069  0.0  0.0  0.0  0.0  0.00000  0.0  0.0  0.0  0.0  0.000000  ...  0.0   \n",
            "\n",
            "      345  346       347  348  349  350  351  352  353  \n",
            "0     0.0  0.0  0.209678  0.0  0.0  0.0  0.0  0.0  0.0  \n",
            "1     0.0  0.0  0.000000  0.0  0.0  0.0  0.0  0.0  0.0  \n",
            "2     0.0  0.0  0.000000  0.0  0.0  0.0  0.0  0.0  0.0  \n",
            "3     0.0  0.0  0.000000  0.0  0.0  0.0  0.0  0.0  0.0  \n",
            "4     0.0  0.0  0.000000  0.0  0.0  0.0  0.0  0.0  0.0  \n",
            "...   ...  ...       ...  ...  ...  ...  ...  ...  ...  \n",
            "2065  0.0  0.0  0.000000  0.0  0.0  0.0  0.0  0.0  0.0  \n",
            "2066  0.0  0.0  0.000000  0.0  0.0  0.0  0.0  0.0  0.0  \n",
            "2067  0.0  0.0  0.000000  0.0  0.0  0.0  0.0  0.0  0.0  \n",
            "2068  0.0  0.0  0.000000  0.0  0.0  0.0  0.0  0.0  0.0  \n",
            "2069  0.0  0.0  0.000000  0.0  0.0  0.0  0.0  0.0  0.0  \n",
            "\n",
            "[2070 rows x 354 columns]\n"
          ]
        }
      ]
    },
    {
      "cell_type": "code",
      "source": [
        "Y_Train = cus_data[\"TARGET\"]\n",
        "X_Train = cus_data.drop(columns=[\"TARGET\"]) #bỏ cột target trong x_train\n",
        "                     \n",
        "print(X_Train.shape)\n",
        "print(cmt_data.shape)\n",
        "cmt_data.head()\n",
        "print(X_Train)\n",
        "print(Y_Train)"
      ],
      "metadata": {
        "id": "4FwgQ_CoE6NL",
        "colab": {
          "base_uri": "https://localhost:8080/"
        },
        "outputId": "845ae28d-9b2f-4deb-f30f-8ae798b9296a"
      },
      "execution_count": 22,
      "outputs": [
        {
          "output_type": "stream",
          "name": "stdout",
          "text": [
            "(2070, 16)\n",
            "(2070, 3)\n",
            "        ID Sex Status  Children  Est_Income Car_Owner   Usage        Age  \\\n",
            "0        1   F      S         1    38000.00         N  229.64  24.393333   \n",
            "1        6   M      M         2    29616.00         N   75.29  49.426667   \n",
            "2        8   M      M         0    19732.80         N   47.25  50.673333   \n",
            "3       11   M      S         2       96.33         N   59.01  56.473333   \n",
            "4       14   F      M         2    52004.80         N   28.14  25.140000   \n",
            "...    ...  ..    ...       ...         ...       ...     ...        ...   \n",
            "2065  3821   F      S         0    78851.30         N   29.04  48.373333   \n",
            "2066  3822   F      S         1    17540.70         Y   36.20  62.786667   \n",
            "2067  3823   F      M         0    83891.90         Y   74.40  61.020000   \n",
            "2068  3824   F      M         2    28220.80         N   38.95  38.766667   \n",
            "2069  3825   F      S         0    28589.10         N  100.28  15.600000   \n",
            "\n",
            "      RatePlan  LongDistance  International   Local  Dropped Paymethod  \\\n",
            "0            3         23.56           0.00  206.08        0        CC   \n",
            "1            2         29.78           0.00   45.50        0        CH   \n",
            "2            3         24.81           0.00   22.44        0        CC   \n",
            "3            1         26.13           0.00   32.88        1        CC   \n",
            "4            1          5.03           0.00   23.11        0        CH   \n",
            "...        ...           ...            ...     ...      ...       ...   \n",
            "2065         4          0.37           0.00   28.66        0        CC   \n",
            "2066         1         22.17           0.57   13.45        0      Auto   \n",
            "2067         4         28.92           0.00   45.47        0        CH   \n",
            "2068         4         26.49           0.00   12.46        0        CC   \n",
            "2069         3         13.19           0.00   87.09        0        CC   \n",
            "\n",
            "     LocalBilltype LongDistanceBilltype  \n",
            "0           Budget       Intnl_discount  \n",
            "1        FreeLocal             Standard  \n",
            "2        FreeLocal             Standard  \n",
            "3           Budget             Standard  \n",
            "4           Budget       Intnl_discount  \n",
            "...            ...                  ...  \n",
            "2065     FreeLocal             Standard  \n",
            "2066        Budget             Standard  \n",
            "2067        Budget             Standard  \n",
            "2068     FreeLocal             Standard  \n",
            "2069     FreeLocal             Standard  \n",
            "\n",
            "[2070 rows x 16 columns]\n",
            "0       Cancelled\n",
            "1         Current\n",
            "2         Current\n",
            "3         Current\n",
            "4       Cancelled\n",
            "          ...    \n",
            "2065    Cancelled\n",
            "2066    Cancelled\n",
            "2067    Cancelled\n",
            "2068    Cancelled\n",
            "2069    Cancelled\n",
            "Name: TARGET, Length: 2070, dtype: object\n"
          ]
        }
      ]
    },
    {
      "cell_type": "code",
      "source": [
        "new_df_tf_idf = SelectKBest(score_func=chi2, k=50).fit_transform(df_tf_idf,Y_Train)\n",
        "new_df_tf_idf.shape\n",
        "\n",
        "DF_TF_IDF_SelectedFeatures= pd.DataFrame(new_df_tf_idf)\n",
        "print(DF_TF_IDF_SelectedFeatures)"
      ],
      "metadata": {
        "colab": {
          "base_uri": "https://localhost:8080/"
        },
        "id": "bdLWLn561kfV",
        "outputId": "351342fa-ef3d-461f-8737-ae749f7ac1bd"
      },
      "execution_count": 23,
      "outputs": [
        {
          "output_type": "stream",
          "name": "stdout",
          "text": [
            "            0    1    2    3         4         5    6         7    8    9   \\\n",
            "0     0.000000  0.0  0.0  0.0  0.000000  0.000000  0.0  0.465653  0.0  0.0   \n",
            "1     0.000000  0.0  0.0  0.0  0.000000  0.000000  0.0  0.000000  0.0  0.0   \n",
            "2     0.000000  0.0  0.0  0.0  0.000000  0.000000  0.0  0.000000  0.0  0.0   \n",
            "3     0.000000  0.0  0.0  0.0  0.000000  0.000000  0.0  0.000000  0.0  0.0   \n",
            "4     0.000000  0.0  0.0  0.0  0.000000  0.000000  0.0  0.000000  0.0  0.0   \n",
            "...        ...  ...  ...  ...       ...       ...  ...       ...  ...  ...   \n",
            "2065  0.000000  0.0  0.0  0.0  0.000000  0.446161  0.0  0.000000  0.0  0.0   \n",
            "2066  0.000000  0.0  0.0  0.0  0.000000  0.000000  0.0  0.000000  0.0  0.0   \n",
            "2067  0.000000  0.0  0.0  0.0  0.000000  0.000000  0.0  0.000000  0.0  0.0   \n",
            "2068  0.772949  0.0  0.0  0.0  0.545354  0.000000  0.0  0.000000  0.0  0.0   \n",
            "2069  0.000000  0.0  0.0  0.0  0.000000  0.000000  0.0  0.000000  0.0  0.0   \n",
            "\n",
            "      ...   40       41   42   43   44   45   46   47   48   49  \n",
            "0     ...  0.0  0.00000  0.0  0.0  0.0  0.0  0.0  0.0  0.0  0.0  \n",
            "1     ...  0.0  0.00000  0.0  0.0  0.0  0.0  0.0  0.0  0.0  0.0  \n",
            "2     ...  0.0  0.00000  0.0  0.0  0.0  0.0  0.0  0.0  0.0  0.0  \n",
            "3     ...  0.0  0.00000  0.0  0.0  0.0  0.0  0.0  0.0  0.0  0.0  \n",
            "4     ...  0.0  0.37653  0.0  0.0  0.0  0.0  0.0  0.0  0.0  0.0  \n",
            "...   ...  ...      ...  ...  ...  ...  ...  ...  ...  ...  ...  \n",
            "2065  ...  0.0  0.00000  0.0  0.0  0.0  0.0  0.0  0.0  0.0  0.0  \n",
            "2066  ...  0.0  0.00000  0.0  0.0  0.0  0.0  0.0  0.0  0.0  0.0  \n",
            "2067  ...  0.0  0.00000  0.0  0.0  0.0  0.0  0.0  0.0  0.0  0.0  \n",
            "2068  ...  0.0  0.00000  0.0  0.0  0.0  0.0  0.0  0.0  0.0  0.0  \n",
            "2069  ...  0.0  0.00000  0.0  0.0  0.0  0.0  0.0  0.0  0.0  0.0  \n",
            "\n",
            "[2070 rows x 50 columns]\n"
          ]
        }
      ]
    },
    {
      "cell_type": "code",
      "source": [
        "#merge df\n",
        "print(cus_data.shape)\n",
        "combined = pd.concat([cus_data,DF_TF_IDF_SelectedFeatures], axis=1)\n",
        "print(combined.shape)\n",
        "print(combined)"
      ],
      "metadata": {
        "id": "qrNcFLSxI_2Y",
        "colab": {
          "base_uri": "https://localhost:8080/"
        },
        "outputId": "763421a4-7986-40eb-e2f8-01f1b5c6fd6b"
      },
      "execution_count": 24,
      "outputs": [
        {
          "output_type": "stream",
          "name": "stdout",
          "text": [
            "(2070, 17)\n",
            "(2070, 67)\n",
            "        ID Sex Status  Children  Est_Income Car_Owner   Usage        Age  \\\n",
            "0        1   F      S         1    38000.00         N  229.64  24.393333   \n",
            "1        6   M      M         2    29616.00         N   75.29  49.426667   \n",
            "2        8   M      M         0    19732.80         N   47.25  50.673333   \n",
            "3       11   M      S         2       96.33         N   59.01  56.473333   \n",
            "4       14   F      M         2    52004.80         N   28.14  25.140000   \n",
            "...    ...  ..    ...       ...         ...       ...     ...        ...   \n",
            "2065  3821   F      S         0    78851.30         N   29.04  48.373333   \n",
            "2066  3822   F      S         1    17540.70         Y   36.20  62.786667   \n",
            "2067  3823   F      M         0    83891.90         Y   74.40  61.020000   \n",
            "2068  3824   F      M         2    28220.80         N   38.95  38.766667   \n",
            "2069  3825   F      S         0    28589.10         N  100.28  15.600000   \n",
            "\n",
            "      RatePlan  LongDistance  ...   40       41   42   43   44   45   46   47  \\\n",
            "0            3         23.56  ...  0.0  0.00000  0.0  0.0  0.0  0.0  0.0  0.0   \n",
            "1            2         29.78  ...  0.0  0.00000  0.0  0.0  0.0  0.0  0.0  0.0   \n",
            "2            3         24.81  ...  0.0  0.00000  0.0  0.0  0.0  0.0  0.0  0.0   \n",
            "3            1         26.13  ...  0.0  0.00000  0.0  0.0  0.0  0.0  0.0  0.0   \n",
            "4            1          5.03  ...  0.0  0.37653  0.0  0.0  0.0  0.0  0.0  0.0   \n",
            "...        ...           ...  ...  ...      ...  ...  ...  ...  ...  ...  ...   \n",
            "2065         4          0.37  ...  0.0  0.00000  0.0  0.0  0.0  0.0  0.0  0.0   \n",
            "2066         1         22.17  ...  0.0  0.00000  0.0  0.0  0.0  0.0  0.0  0.0   \n",
            "2067         4         28.92  ...  0.0  0.00000  0.0  0.0  0.0  0.0  0.0  0.0   \n",
            "2068         4         26.49  ...  0.0  0.00000  0.0  0.0  0.0  0.0  0.0  0.0   \n",
            "2069         3         13.19  ...  0.0  0.00000  0.0  0.0  0.0  0.0  0.0  0.0   \n",
            "\n",
            "       48   49  \n",
            "0     0.0  0.0  \n",
            "1     0.0  0.0  \n",
            "2     0.0  0.0  \n",
            "3     0.0  0.0  \n",
            "4     0.0  0.0  \n",
            "...   ...  ...  \n",
            "2065  0.0  0.0  \n",
            "2066  0.0  0.0  \n",
            "2067  0.0  0.0  \n",
            "2068  0.0  0.0  \n",
            "2069  0.0  0.0  \n",
            "\n",
            "[2070 rows x 67 columns]\n"
          ]
        }
      ]
    },
    {
      "cell_type": "code",
      "source": [
        "categorical_features = [\"Sex\",\"Status\",\"Car_Owner\",\"Paymethod\",\"LocalBilltype\",\"LongDistanceBilltype\"]\n",
        "print(categorical_features)\n",
        "df_combined = pd.get_dummies(combined,columns=categorical_features) \n",
        "print(df_combined.head())"
      ],
      "metadata": {
        "id": "0alT_Ila-nTJ",
        "colab": {
          "base_uri": "https://localhost:8080/"
        },
        "outputId": "f60551d1-2dba-48d6-9586-1b8aa1efa4a4"
      },
      "execution_count": null,
      "outputs": [
        {
          "output_type": "stream",
          "name": "stdout",
          "text": [
            "['Sex', 'Status', 'Car_Owner', 'Paymethod', 'LocalBilltype', 'LongDistanceBilltype']\n",
            "   ID  Children  Est_Income   Usage        Age  RatePlan  LongDistance  \\\n",
            "0   1         1    38000.00  229.64  24.393333         3         23.56   \n",
            "1   6         2    29616.00   75.29  49.426667         2         29.78   \n",
            "2   8         0    19732.80   47.25  50.673333         3         24.81   \n",
            "3  11         2       96.33   59.01  56.473333         1         26.13   \n",
            "4  14         2    52004.80   28.14  25.140000         1          5.03   \n",
            "\n",
            "   International   Local  Dropped  ... Status_S  Car_Owner_N  Car_Owner_Y  \\\n",
            "0            0.0  206.08        0  ...        1            1            0   \n",
            "1            0.0   45.50        0  ...        0            1            0   \n",
            "2            0.0   22.44        0  ...        0            1            0   \n",
            "3            0.0   32.88        1  ...        1            1            0   \n",
            "4            0.0   23.11        0  ...        0            1            0   \n",
            "\n",
            "   Paymethod_Auto  Paymethod_CC  Paymethod_CH  LocalBilltype_Budget  \\\n",
            "0               0             1             0                     1   \n",
            "1               0             0             1                     0   \n",
            "2               0             1             0                     0   \n",
            "3               0             1             0                     1   \n",
            "4               0             0             1                     1   \n",
            "\n",
            "   LocalBilltype_FreeLocal  LongDistanceBilltype_Intnl_discount  \\\n",
            "0                        0                                    1   \n",
            "1                        1                                    0   \n",
            "2                        1                                    0   \n",
            "3                        0                                    0   \n",
            "4                        0                                    1   \n",
            "\n",
            "   LongDistanceBilltype_Standard  \n",
            "0                              0  \n",
            "1                              1  \n",
            "2                              1  \n",
            "3                              1  \n",
            "4                              0  \n",
            "\n",
            "[5 rows x 75 columns]\n"
          ]
        }
      ]
    },
    {
      "cell_type": "markdown",
      "source": [
        "# **Model**"
      ],
      "metadata": {
        "id": "y4O5s5uY-s9n"
      }
    },
    {
      "cell_type": "code",
      "source": [
        "X_Train1, X_Test1, Y_Train1, Y_Test1 = train_test_split(df_combined.drop(columns=[\"TARGET\"]), \n",
        "                                                        df_combined[\"TARGET\"], \n",
        "                                                        test_size=0.20, random_state=42)\n",
        "print('Training dataset shape:', X_Train1.shape, Y_Train1)\n",
        "print('Testing dataset shape:', X_Test1.shape, Y_Test1)"
      ],
      "metadata": {
        "id": "Q_4o8jEQ-ntU",
        "colab": {
          "base_uri": "https://localhost:8080/"
        },
        "outputId": "4ace7125-f2c7-4d58-9941-a456ebd9a6c8"
      },
      "execution_count": null,
      "outputs": [
        {
          "output_type": "stream",
          "name": "stdout",
          "text": [
            "Training dataset shape: (1656, 74) 849       Current\n",
            "1043    Cancelled\n",
            "175       Current\n",
            "1228      Current\n",
            "538     Cancelled\n",
            "          ...    \n",
            "1638      Current\n",
            "1095      Current\n",
            "1130      Current\n",
            "1294      Current\n",
            "860       Current\n",
            "Name: TARGET, Length: 1656, dtype: object\n",
            "Testing dataset shape: (414, 74) 1181      Current\n",
            "69        Current\n",
            "351     Cancelled\n",
            "1163    Cancelled\n",
            "429       Current\n",
            "          ...    \n",
            "1532      Current\n",
            "1671      Current\n",
            "416       Current\n",
            "2023      Current\n",
            "1428      Current\n",
            "Name: TARGET, Length: 414, dtype: object\n"
          ]
        }
      ]
    },
    {
      "cell_type": "markdown",
      "source": [
        "### SVM"
      ],
      "metadata": {
        "id": "MpbdFicKOndK"
      }
    },
    {
      "cell_type": "code",
      "source": [
        "#model SVM\n",
        "svm = SVC()\n",
        "svm_text = svm.fit(X_Train1.values,Y_Train1.values)\n",
        "print(\"Accuracy score (training): {0:.6f}\".format(svm.score(X_Test1.values, Y_Test1.values)))\n",
        "rf_predictions = svm.predict(X_Test1.values)\n",
        "print(\"Confusion Matrix:\")\n",
        "print(confusion_matrix(Y_Test1.values, rf_predictions))\n",
        "print(\"Classification Report\")\n",
        "print(classification_report(Y_Test1.values, rf_predictions))"
      ],
      "metadata": {
        "id": "sM-ySaZe-wnv",
        "colab": {
          "base_uri": "https://localhost:8080/"
        },
        "outputId": "1e12293b-3064-4a91-a1e4-f3dddc6f7817"
      },
      "execution_count": null,
      "outputs": [
        {
          "output_type": "stream",
          "name": "stdout",
          "text": [
            "Accuracy score (training): 0.620773\n",
            "Confusion Matrix:\n",
            "[[  0 157]\n",
            " [  0 257]]\n",
            "Classification Report\n",
            "              precision    recall  f1-score   support\n",
            "\n",
            "   Cancelled       0.00      0.00      0.00       157\n",
            "     Current       0.62      1.00      0.77       257\n",
            "\n",
            "    accuracy                           0.62       414\n",
            "   macro avg       0.31      0.50      0.38       414\n",
            "weighted avg       0.39      0.62      0.48       414\n",
            "\n"
          ]
        }
      ]
    },
    {
      "cell_type": "markdown",
      "source": [
        "### kNN"
      ],
      "metadata": {
        "id": "yybvZUy1Otpv"
      }
    },
    {
      "cell_type": "code",
      "source": [
        "#model kNN\n",
        "knn = KNeighborsClassifier()\n",
        "knn_text = knn.fit(X_Train1.values,Y_Train1.values)\n",
        "print(\"Accuracy score (training): {0:.6f}\".format(knn.score(X_Test1.values, Y_Test1.values)))\n",
        "rf_predictions = knn.predict(X_Test1.values)\n",
        "print(\"Confusion Matrix:\")\n",
        "print(confusion_matrix(Y_Test1.values, rf_predictions))\n",
        "print(\"Classification Report\")\n",
        "print(classification_report(Y_Test1.values, rf_predictions))"
      ],
      "metadata": {
        "id": "EF39tJurBlmm",
        "colab": {
          "base_uri": "https://localhost:8080/"
        },
        "outputId": "4cc7b64f-9528-4452-f5e9-e74eb8b31437"
      },
      "execution_count": null,
      "outputs": [
        {
          "output_type": "stream",
          "name": "stdout",
          "text": [
            "Accuracy score (training): 0.669082\n",
            "Confusion Matrix:\n",
            "[[ 82  75]\n",
            " [ 62 195]]\n",
            "Classification Report\n",
            "              precision    recall  f1-score   support\n",
            "\n",
            "   Cancelled       0.57      0.52      0.54       157\n",
            "     Current       0.72      0.76      0.74       257\n",
            "\n",
            "    accuracy                           0.67       414\n",
            "   macro avg       0.65      0.64      0.64       414\n",
            "weighted avg       0.66      0.67      0.67       414\n",
            "\n"
          ]
        }
      ]
    },
    {
      "cell_type": "code",
      "source": [
        "from sklearn.metrics         import accuracy_score, precision_score, f1_score"
      ],
      "metadata": {
        "id": "Xffb8zWgGryQ"
      },
      "execution_count": null,
      "outputs": []
    },
    {
      "cell_type": "code",
      "source": [
        "Y_Test2 = Y_Test1.map({'Current': 1, 'Cancelled': 0}).astype(int)\n",
        "Y_Train2 = Y_Train1.map({'Current': 1, 'Cancelled': 0}).astype(int)"
      ],
      "metadata": {
        "id": "myPnIQM8H6tZ"
      },
      "execution_count": null,
      "outputs": []
    },
    {
      "cell_type": "code",
      "source": [
        "classifier = KNeighborsClassifier()\n",
        "kNN = classifier.fit(X_Train1, Y_Train2)\n",
        "\n",
        "y_pred_KNN_stratified = kNN.predict(X_Test1)\n",
        "\n",
        "# Evaluate\n",
        "accuracy_knn = accuracy_score(Y_Test2, y_pred_KNN_stratified)\n",
        "precision_knn = precision_score(Y_Test2, y_pred_KNN_stratified)\n",
        "f1_knn = f1_score(Y_Test2, y_pred_KNN_stratified)"
      ],
      "metadata": {
        "id": "d4CIrfTlGQ5K"
      },
      "execution_count": null,
      "outputs": []
    },
    {
      "cell_type": "code",
      "source": [
        "classifier = SVC()\n",
        "SVM = classifier.fit(X_Train1, Y_Train2)\n",
        "\n",
        "y_pred_SVM_stratified = SVM.predict(X_Test1)\n",
        "\n",
        "# Evaluate\n",
        "accuracy_SVM = accuracy_score(Y_Test2, y_pred_SVM_stratified)\n",
        "precision_SVM = precision_score(Y_Test2, y_pred_SVM_stratified)\n",
        "f1_SVM = f1_score(Y_Test2, y_pred_SVM_stratified)\n"
      ],
      "metadata": {
        "id": "Su5TGUtDHlZA"
      },
      "execution_count": null,
      "outputs": []
    },
    {
      "cell_type": "code",
      "source": [
        "from tabulate import tabulate\n",
        "\n",
        "# Create a header of the table data\n",
        "table_heading = [\"Score\", \"Support Vector Machine\", \"K-Nearest Neighbors\"]\n",
        "\n",
        "# a list of list containing inner list as rows of table\n",
        "table_data = [[\"Accuracy\", accuracy_knn, accuracy_SVM], [\"Precision\", precision_knn, precision_SVM], [\"f1_score\", f1_knn, f1_SVM]]\n",
        "\n",
        "# print data in tabular format in terminal\n",
        "print(tabulate(table_data, headers=table_heading, tablefmt=\"fancy_grid\"))"
      ],
      "metadata": {
        "colab": {
          "base_uri": "https://localhost:8080/"
        },
        "id": "zBWvSctxLR70",
        "outputId": "4e1fe378-355c-4d6a-b1ec-0a69c7a952ea"
      },
      "execution_count": null,
      "outputs": [
        {
          "output_type": "stream",
          "name": "stdout",
          "text": [
            "╒═══════════╤══════════════════════════╤═══════════════════════╕\n",
            "│ Score     │   Support Vector Machine │   K-Nearest Neighbors │\n",
            "╞═══════════╪══════════════════════════╪═══════════════════════╡\n",
            "│ Accuracy  │                 0.669082 │              0.620773 │\n",
            "├───────────┼──────────────────────────┼───────────────────────┤\n",
            "│ Precision │                 0.722222 │              0.620773 │\n",
            "├───────────┼──────────────────────────┼───────────────────────┤\n",
            "│ f1_score  │                 0.740038 │              0.766021 │\n",
            "╘═══════════╧══════════════════════════╧═══════════════════════╛\n"
          ]
        }
      ]
    }
  ]
}